{
 "cells": [
  {
   "cell_type": "markdown",
   "metadata": {
    "id": "E-qoYWgOC_yk"
   },
   "source": [
    "<center><img src='https://raw.githubusercontent.com/Jangrae/img/master/title.png' width=500/></center>"
   ]
  },
  {
   "cell_type": "markdown",
   "metadata": {
    "id": "BFhIXgdYoYGp"
   },
   "source": [
    "<center><img src='https://raw.githubusercontent.com/Jangrae/img/master/practice3.png' width=300/></center>"
   ]
  },
  {
   "cell_type": "markdown",
   "metadata": {
    "id": "caM-C-vIyXAV"
   },
   "source": [
    "<center>본 실습에서 요구하는 내용 외에도 다양한 내용을 스스로 추가하여  탐색하고 분석해 보기를 권고합니다.</center>"
   ]
  },
  {
   "cell_type": "markdown",
   "metadata": {
    "id": "Xi_yurwiORB7"
   },
   "source": [
    "# 서울 공공 자전거 이용 현황"
   ]
  },
  {
   "cell_type": "markdown",
   "metadata": {
    "id": "9D-jtyRW6hjJ"
   },
   "source": [
    "<img src='https://raw.githubusercontent.com/Jangrae/img/master/seoul_bike.png' width=\"650\" align=\"left\">"
   ]
  },
  {
   "cell_type": "markdown",
   "metadata": {
    "id": "qb1iLyXwGlnw"
   },
   "source": [
    "## 1.환경 설정\n",
    "\n",
    "- 데이터 탐색과 전처리를 하기 전 라이브러리와 파일을 읽어옵니다.\n",
    "- 시각화에 한글이 포함된 경우 이에 대한 설정을 진행합니다."
   ]
  },
  {
   "cell_type": "markdown",
   "metadata": {
    "id": "PK8ZI9P5mRV8"
   },
   "source": [
    "**1) 한글 설정**\n",
    "\n",
    "- Jupyter Notebook 시각화에 한글이 표시되게 설정합니다."
   ]
  },
  {
   "cell_type": "code",
   "execution_count": 2,
   "metadata": {
    "id": "lyk2U1RZmRV9"
   },
   "outputs": [],
   "source": [
    "# 라이브러리 불러오기\n",
    "import matplotlib \n",
    "import matplotlib.pyplot as plt\n",
    "\n",
    "# 폰트설정\n",
    "matplotlib.font_manager._rebuild()\n",
    "plt.rc('font', family='Malgun Gothic')\n",
    "plt.rcParams['axes.unicode_minus'] = False"
   ]
  },
  {
   "cell_type": "markdown",
   "metadata": {
    "id": "0uNXxebRGrd8"
   },
   "source": [
    "**2) 라이브러리 불러오기**\n",
    "\n",
    "- 사용할 라이브러리를 불러옵니다."
   ]
  },
  {
   "cell_type": "code",
   "execution_count": 3,
   "metadata": {
    "id": "p3lUS_fyqvnh"
   },
   "outputs": [],
   "source": [
    "# 라이브러리 불러오기\n",
    "import numpy as np\n",
    "import pandas as pd\n",
    "import matplotlib.pyplot as plt\n",
    "\n",
    "%config InlineBackend.figure_format = 'retina'"
   ]
  },
  {
   "cell_type": "markdown",
   "metadata": {
    "id": "ul8zKgxCqvnh"
   },
   "source": [
    "**3) 데이터 읽어오기**\n",
    "\n",
    "- 다음 경로의 파일을 읽어와 bike 데이터프레임을 만듭니다.\n",
    "- 파일 경로: 'https://raw.githubusercontent.com/Jangrae/csv/master/seoul_bike_202106.csv'\n",
    "- 단축 경로: 'https://bit.ly/SeoulBikeFile'\n",
    "- Decoding 오류가 발생하면 encoding='CP949' 옵션을 지정해 불러옵니다."
   ]
  },
  {
   "cell_type": "code",
   "execution_count": 4,
   "metadata": {
    "id": "enhGxkyt0KcI"
   },
   "outputs": [],
   "source": [
    "# 데이터 읽어오기\n",
    "path = 'https://bit.ly/SeoulBikeFile'\n",
    "B = pd.read_csv(path, encoding='CP949')"
   ]
  },
  {
   "cell_type": "markdown",
   "metadata": {
    "id": "1O_usuOg0KcP"
   },
   "source": [
    "## 2.데이터 탐색\n",
    "\n",
    "다음과 같은 정보 확인을 통해 처리할 대상 데이터를 이해합니다.\n",
    "- 상/하위 데이터 확인\n",
    "- 데이터프레임 크기 확인\n",
    "- 열 이름, 데이터 형식, 값 개수 등 확인\n",
    "- 기초 통계정보 확인\n",
    "- 결측치 확인\n",
    "- 범주형 데이터 확인\n",
    "- 개별 열 값 상세 확인 등"
   ]
  },
  {
   "cell_type": "markdown",
   "metadata": {
    "id": "Lxus78Ii0KcR"
   },
   "source": [
    "**1) 상/하위 데이터 확인**\n",
    "\n",
    "- 상/하위 데이터를 확인합니다."
   ]
  },
  {
   "cell_type": "code",
   "execution_count": 5,
   "metadata": {
    "id": "L10e2SPG0KcS",
    "scrolled": true
   },
   "outputs": [
    {
     "data": {
      "text/html": [
       "<div>\n",
       "<style scoped>\n",
       "    .dataframe tbody tr th:only-of-type {\n",
       "        vertical-align: middle;\n",
       "    }\n",
       "\n",
       "    .dataframe tbody tr th {\n",
       "        vertical-align: top;\n",
       "    }\n",
       "\n",
       "    .dataframe thead th {\n",
       "        text-align: right;\n",
       "    }\n",
       "</style>\n",
       "<table border=\"1\" class=\"dataframe\">\n",
       "  <thead>\n",
       "    <tr style=\"text-align: right;\">\n",
       "      <th></th>\n",
       "      <th>대여일자</th>\n",
       "      <th>대여소번호</th>\n",
       "      <th>대여소명</th>\n",
       "      <th>대여구분코드</th>\n",
       "      <th>성별</th>\n",
       "      <th>연령대코드</th>\n",
       "      <th>이용건수</th>\n",
       "      <th>운동량</th>\n",
       "      <th>탄소량</th>\n",
       "      <th>이동거리(M)</th>\n",
       "      <th>이용시간(분)</th>\n",
       "    </tr>\n",
       "  </thead>\n",
       "  <tbody>\n",
       "    <tr>\n",
       "      <th>0</th>\n",
       "      <td>2021-06</td>\n",
       "      <td>3</td>\n",
       "      <td>중랑센터</td>\n",
       "      <td>일일(회원)</td>\n",
       "      <td>F</td>\n",
       "      <td>AGE_003</td>\n",
       "      <td>1</td>\n",
       "      <td>11.23</td>\n",
       "      <td>0.12</td>\n",
       "      <td>506.18</td>\n",
       "      <td>17</td>\n",
       "    </tr>\n",
       "    <tr>\n",
       "      <th>1</th>\n",
       "      <td>2021-06</td>\n",
       "      <td>3</td>\n",
       "      <td>중랑센터</td>\n",
       "      <td>정기</td>\n",
       "      <td>NaN</td>\n",
       "      <td>AGE_003</td>\n",
       "      <td>2</td>\n",
       "      <td>107.00</td>\n",
       "      <td>0.79</td>\n",
       "      <td>3377.56</td>\n",
       "      <td>17</td>\n",
       "    </tr>\n",
       "    <tr>\n",
       "      <th>2</th>\n",
       "      <td>2021-06</td>\n",
       "      <td>3</td>\n",
       "      <td>중랑센터</td>\n",
       "      <td>정기</td>\n",
       "      <td>M</td>\n",
       "      <td>AGE_002</td>\n",
       "      <td>6</td>\n",
       "      <td>352.15</td>\n",
       "      <td>3.18</td>\n",
       "      <td>13680.88</td>\n",
       "      <td>81</td>\n",
       "    </tr>\n",
       "    <tr>\n",
       "      <th>3</th>\n",
       "      <td>2021-06</td>\n",
       "      <td>3</td>\n",
       "      <td>중랑센터</td>\n",
       "      <td>정기</td>\n",
       "      <td>M</td>\n",
       "      <td>AGE_004</td>\n",
       "      <td>3</td>\n",
       "      <td>61.55</td>\n",
       "      <td>0.50</td>\n",
       "      <td>2158.72</td>\n",
       "      <td>21</td>\n",
       "    </tr>\n",
       "    <tr>\n",
       "      <th>4</th>\n",
       "      <td>2021-06</td>\n",
       "      <td>3</td>\n",
       "      <td>중랑센터</td>\n",
       "      <td>정기</td>\n",
       "      <td>M</td>\n",
       "      <td>AGE_005</td>\n",
       "      <td>3</td>\n",
       "      <td>125.30</td>\n",
       "      <td>1.10</td>\n",
       "      <td>4722.60</td>\n",
       "      <td>36</td>\n",
       "    </tr>\n",
       "  </tbody>\n",
       "</table>\n",
       "</div>"
      ],
      "text/plain": [
       "      대여일자  대여소번호  대여소명  대여구분코드   성별    연령대코드  이용건수     운동량   탄소량   이동거리(M)  \\\n",
       "0  2021-06      3  중랑센터  일일(회원)    F  AGE_003     1   11.23  0.12    506.18   \n",
       "1  2021-06      3  중랑센터      정기  NaN  AGE_003     2  107.00  0.79   3377.56   \n",
       "2  2021-06      3  중랑센터      정기    M  AGE_002     6  352.15  3.18  13680.88   \n",
       "3  2021-06      3  중랑센터      정기    M  AGE_004     3   61.55  0.50   2158.72   \n",
       "4  2021-06      3  중랑센터      정기    M  AGE_005     3  125.30  1.10   4722.60   \n",
       "\n",
       "   이용시간(분)  \n",
       "0       17  \n",
       "1       17  \n",
       "2       81  \n",
       "3       21  \n",
       "4       36  "
      ]
     },
     "execution_count": 5,
     "metadata": {},
     "output_type": "execute_result"
    }
   ],
   "source": [
    "# 상위 5개 행 확인\n",
    "B.head()"
   ]
  },
  {
   "cell_type": "code",
   "execution_count": 6,
   "metadata": {
    "id": "r6tiodOr0KcZ",
    "scrolled": true
   },
   "outputs": [
    {
     "data": {
      "text/html": [
       "<div>\n",
       "<style scoped>\n",
       "    .dataframe tbody tr th:only-of-type {\n",
       "        vertical-align: middle;\n",
       "    }\n",
       "\n",
       "    .dataframe tbody tr th {\n",
       "        vertical-align: top;\n",
       "    }\n",
       "\n",
       "    .dataframe thead th {\n",
       "        text-align: right;\n",
       "    }\n",
       "</style>\n",
       "<table border=\"1\" class=\"dataframe\">\n",
       "  <thead>\n",
       "    <tr style=\"text-align: right;\">\n",
       "      <th></th>\n",
       "      <th>대여일자</th>\n",
       "      <th>대여소번호</th>\n",
       "      <th>대여소명</th>\n",
       "      <th>대여구분코드</th>\n",
       "      <th>성별</th>\n",
       "      <th>연령대코드</th>\n",
       "      <th>이용건수</th>\n",
       "      <th>운동량</th>\n",
       "      <th>탄소량</th>\n",
       "      <th>이동거리(M)</th>\n",
       "      <th>이용시간(분)</th>\n",
       "    </tr>\n",
       "  </thead>\n",
       "  <tbody>\n",
       "    <tr>\n",
       "      <th>119855</th>\n",
       "      <td>2021-06</td>\n",
       "      <td>88888</td>\n",
       "      <td>88888.영남배송</td>\n",
       "      <td>정기</td>\n",
       "      <td>F</td>\n",
       "      <td>AGE_002</td>\n",
       "      <td>1</td>\n",
       "      <td>0.00</td>\n",
       "      <td>0.00</td>\n",
       "      <td>0.00</td>\n",
       "      <td>9</td>\n",
       "    </tr>\n",
       "    <tr>\n",
       "      <th>119856</th>\n",
       "      <td>2021-06</td>\n",
       "      <td>88888</td>\n",
       "      <td>88888.영남배송</td>\n",
       "      <td>정기</td>\n",
       "      <td>M</td>\n",
       "      <td>AGE_002</td>\n",
       "      <td>2</td>\n",
       "      <td>218.93</td>\n",
       "      <td>1.97</td>\n",
       "      <td>8505.59</td>\n",
       "      <td>79</td>\n",
       "    </tr>\n",
       "    <tr>\n",
       "      <th>119857</th>\n",
       "      <td>2021-06</td>\n",
       "      <td>88888</td>\n",
       "      <td>88888.영남배송</td>\n",
       "      <td>정기</td>\n",
       "      <td>M</td>\n",
       "      <td>AGE_003</td>\n",
       "      <td>1</td>\n",
       "      <td>8.32</td>\n",
       "      <td>0.07</td>\n",
       "      <td>283.84</td>\n",
       "      <td>41</td>\n",
       "    </tr>\n",
       "    <tr>\n",
       "      <th>119858</th>\n",
       "      <td>2021-06</td>\n",
       "      <td>99997</td>\n",
       "      <td>도봉정비센터</td>\n",
       "      <td>일일(회원)</td>\n",
       "      <td>M</td>\n",
       "      <td>AGE_005</td>\n",
       "      <td>1</td>\n",
       "      <td>NaN</td>\n",
       "      <td>NaN</td>\n",
       "      <td>0.00</td>\n",
       "      <td>4</td>\n",
       "    </tr>\n",
       "    <tr>\n",
       "      <th>119859</th>\n",
       "      <td>2021-06</td>\n",
       "      <td>99999</td>\n",
       "      <td>99999. 영남단말기정비</td>\n",
       "      <td>정기</td>\n",
       "      <td>NaN</td>\n",
       "      <td>AGE_008</td>\n",
       "      <td>6</td>\n",
       "      <td>0.00</td>\n",
       "      <td>0.00</td>\n",
       "      <td>0.00</td>\n",
       "      <td>235</td>\n",
       "    </tr>\n",
       "  </tbody>\n",
       "</table>\n",
       "</div>"
      ],
      "text/plain": [
       "           대여일자  대여소번호            대여소명  대여구분코드   성별    연령대코드  이용건수     운동량  \\\n",
       "119855  2021-06  88888      88888.영남배송      정기    F  AGE_002     1    0.00   \n",
       "119856  2021-06  88888      88888.영남배송      정기    M  AGE_002     2  218.93   \n",
       "119857  2021-06  88888      88888.영남배송      정기    M  AGE_003     1    8.32   \n",
       "119858  2021-06  99997          도봉정비센터  일일(회원)    M  AGE_005     1     NaN   \n",
       "119859  2021-06  99999  99999. 영남단말기정비      정기  NaN  AGE_008     6    0.00   \n",
       "\n",
       "         탄소량  이동거리(M)  이용시간(분)  \n",
       "119855  0.00     0.00        9  \n",
       "119856  1.97  8505.59       79  \n",
       "119857  0.07   283.84       41  \n",
       "119858   NaN     0.00        4  \n",
       "119859  0.00     0.00      235  "
      ]
     },
     "execution_count": 6,
     "metadata": {},
     "output_type": "execute_result"
    }
   ],
   "source": [
    "# 하위 5개 행 확인\n",
    "B.tail()"
   ]
  },
  {
   "cell_type": "markdown",
   "metadata": {
    "id": "KXhMyTdu0Kcf"
   },
   "source": [
    "**2) 열 데이터 형식, 값 개수**\n",
    "\n",
    "- 어떤 열이 있고, 몇 개의 값들을 갖는지, 데이터 형식은 어떠한 지 확인합니다."
   ]
  },
  {
   "cell_type": "code",
   "execution_count": 7,
   "metadata": {
    "id": "1YeG0s8p0Kcg",
    "scrolled": false
   },
   "outputs": [
    {
     "name": "stdout",
     "output_type": "stream",
     "text": [
      "<class 'pandas.core.frame.DataFrame'>\n",
      "RangeIndex: 119860 entries, 0 to 119859\n",
      "Data columns (total 11 columns):\n",
      " #   Column   Non-Null Count   Dtype  \n",
      "---  ------   --------------   -----  \n",
      " 0   대여일자     119860 non-null  object \n",
      " 1   대여소번호    119860 non-null  int64  \n",
      " 2   대여소명     119860 non-null  object \n",
      " 3   대여구분코드   119860 non-null  object \n",
      " 4   성별       67702 non-null   object \n",
      " 5   연령대코드    119860 non-null  object \n",
      " 6   이용건수     119860 non-null  int64  \n",
      " 7   운동량      119698 non-null  float64\n",
      " 8   탄소량      119698 non-null  float64\n",
      " 9   이동거리(M)  119860 non-null  float64\n",
      " 10  이용시간(분)  119860 non-null  int64  \n",
      "dtypes: float64(3), int64(3), object(5)\n",
      "memory usage: 10.1+ MB\n"
     ]
    }
   ],
   "source": [
    "# 열 정보 확인\n",
    "B.info()"
   ]
  },
  {
   "cell_type": "markdown",
   "metadata": {
    "id": "AAxqBZJhfjDY"
   },
   "source": [
    "**3) 기초통계정보 확인**\n",
    "\n",
    "- 기초통계정보를 통해 데이터 분포 상황을 살펴봅니다."
   ]
  },
  {
   "cell_type": "code",
   "execution_count": 8,
   "metadata": {
    "id": "l_rRFp8QvGs_",
    "scrolled": false
   },
   "outputs": [
    {
     "data": {
      "text/html": [
       "<div>\n",
       "<style scoped>\n",
       "    .dataframe tbody tr th:only-of-type {\n",
       "        vertical-align: middle;\n",
       "    }\n",
       "\n",
       "    .dataframe tbody tr th {\n",
       "        vertical-align: top;\n",
       "    }\n",
       "\n",
       "    .dataframe thead th {\n",
       "        text-align: right;\n",
       "    }\n",
       "</style>\n",
       "<table border=\"1\" class=\"dataframe\">\n",
       "  <thead>\n",
       "    <tr style=\"text-align: right;\">\n",
       "      <th></th>\n",
       "      <th>대여소번호</th>\n",
       "      <th>이용건수</th>\n",
       "      <th>운동량</th>\n",
       "      <th>탄소량</th>\n",
       "      <th>이동거리(M)</th>\n",
       "      <th>이용시간(분)</th>\n",
       "    </tr>\n",
       "  </thead>\n",
       "  <tbody>\n",
       "    <tr>\n",
       "      <th>count</th>\n",
       "      <td>119860.000000</td>\n",
       "      <td>119860.000000</td>\n",
       "      <td>1.196980e+05</td>\n",
       "      <td>119698.000000</td>\n",
       "      <td>1.198600e+05</td>\n",
       "      <td>119860.000000</td>\n",
       "    </tr>\n",
       "    <tr>\n",
       "      <th>mean</th>\n",
       "      <td>1902.517437</td>\n",
       "      <td>28.870407</td>\n",
       "      <td>8.869655e+03</td>\n",
       "      <td>20.455260</td>\n",
       "      <td>8.805111e+04</td>\n",
       "      <td>749.706699</td>\n",
       "    </tr>\n",
       "    <tr>\n",
       "      <th>std</th>\n",
       "      <td>1453.116590</td>\n",
       "      <td>56.813723</td>\n",
       "      <td>1.335818e+06</td>\n",
       "      <td>42.948015</td>\n",
       "      <td>1.850256e+05</td>\n",
       "      <td>1504.361808</td>\n",
       "    </tr>\n",
       "    <tr>\n",
       "      <th>min</th>\n",
       "      <td>3.000000</td>\n",
       "      <td>1.000000</td>\n",
       "      <td>0.000000e+00</td>\n",
       "      <td>0.000000</td>\n",
       "      <td>0.000000e+00</td>\n",
       "      <td>0.000000</td>\n",
       "    </tr>\n",
       "    <tr>\n",
       "      <th>25%</th>\n",
       "      <td>806.000000</td>\n",
       "      <td>3.000000</td>\n",
       "      <td>2.032625e+02</td>\n",
       "      <td>1.840000</td>\n",
       "      <td>7.870930e+03</td>\n",
       "      <td>76.000000</td>\n",
       "    </tr>\n",
       "    <tr>\n",
       "      <th>50%</th>\n",
       "      <td>1640.000000</td>\n",
       "      <td>9.000000</td>\n",
       "      <td>7.376450e+02</td>\n",
       "      <td>6.590000</td>\n",
       "      <td>2.830418e+04</td>\n",
       "      <td>255.000000</td>\n",
       "    </tr>\n",
       "    <tr>\n",
       "      <th>75%</th>\n",
       "      <td>2654.000000</td>\n",
       "      <td>30.000000</td>\n",
       "      <td>2.454695e+03</td>\n",
       "      <td>21.720000</td>\n",
       "      <td>9.339718e+04</td>\n",
       "      <td>812.000000</td>\n",
       "    </tr>\n",
       "    <tr>\n",
       "      <th>max</th>\n",
       "      <td>99999.000000</td>\n",
       "      <td>1617.000000</td>\n",
       "      <td>4.000089e+08</td>\n",
       "      <td>2376.180000</td>\n",
       "      <td>1.024219e+07</td>\n",
       "      <td>87111.000000</td>\n",
       "    </tr>\n",
       "  </tbody>\n",
       "</table>\n",
       "</div>"
      ],
      "text/plain": [
       "               대여소번호           이용건수           운동량            탄소량  \\\n",
       "count  119860.000000  119860.000000  1.196980e+05  119698.000000   \n",
       "mean     1902.517437      28.870407  8.869655e+03      20.455260   \n",
       "std      1453.116590      56.813723  1.335818e+06      42.948015   \n",
       "min         3.000000       1.000000  0.000000e+00       0.000000   \n",
       "25%       806.000000       3.000000  2.032625e+02       1.840000   \n",
       "50%      1640.000000       9.000000  7.376450e+02       6.590000   \n",
       "75%      2654.000000      30.000000  2.454695e+03      21.720000   \n",
       "max     99999.000000    1617.000000  4.000089e+08    2376.180000   \n",
       "\n",
       "            이동거리(M)        이용시간(분)  \n",
       "count  1.198600e+05  119860.000000  \n",
       "mean   8.805111e+04     749.706699  \n",
       "std    1.850256e+05    1504.361808  \n",
       "min    0.000000e+00       0.000000  \n",
       "25%    7.870930e+03      76.000000  \n",
       "50%    2.830418e+04     255.000000  \n",
       "75%    9.339718e+04     812.000000  \n",
       "max    1.024219e+07   87111.000000  "
      ]
     },
     "execution_count": 8,
     "metadata": {},
     "output_type": "execute_result"
    }
   ],
   "source": [
    "# 기초통계정보 \n",
    "B.describe()"
   ]
  },
  {
   "cell_type": "markdown",
   "metadata": {
    "id": "etPLyqBrXLY0"
   },
   "source": [
    "**4) 결측치 확인**\n",
    "\n",
    "- 결측치가 있는 지 확인합니다."
   ]
  },
  {
   "cell_type": "code",
   "execution_count": 9,
   "metadata": {
    "id": "JNjUwfhwXPjq",
    "scrolled": true
   },
   "outputs": [
    {
     "data": {
      "text/plain": [
       "대여일자           0\n",
       "대여소번호          0\n",
       "대여소명           0\n",
       "대여구분코드         0\n",
       "성별         52158\n",
       "연령대코드          0\n",
       "이용건수           0\n",
       "운동량          162\n",
       "탄소량          162\n",
       "이동거리(M)        0\n",
       "이용시간(분)        0\n",
       "dtype: int64"
      ]
     },
     "execution_count": 9,
     "metadata": {},
     "output_type": "execute_result"
    }
   ],
   "source": [
    "# 결측치 확인\n",
    "B.isnull().sum()"
   ]
  },
  {
   "cell_type": "markdown",
   "metadata": {
    "id": "He81NI5TfjDZ"
   },
   "source": [
    "**5) 범주형 데이터 확인**\n",
    "\n",
    "- 범주형 값을 갖는 열의 범주 값과 그 값의 개수를 확인합니다."
   ]
  },
  {
   "cell_type": "markdown",
   "metadata": {
    "id": "0vDpa3mtfjDZ"
   },
   "source": [
    "- 대여구분코드"
   ]
  },
  {
   "cell_type": "code",
   "execution_count": 10,
   "metadata": {
    "id": "9OuNEDwDyb7y",
    "scrolled": true
   },
   "outputs": [
    {
     "data": {
      "text/plain": [
       "정기         60530\n",
       "일일(회원)     45514\n",
       "단체          8914\n",
       "일일(비회원)     2804\n",
       "10분이용권      2098\n",
       "Name: 대여구분코드, dtype: int64"
      ]
     },
     "execution_count": 10,
     "metadata": {},
     "output_type": "execute_result"
    }
   ],
   "source": [
    "# 대여구분코드\n",
    "B['대여구분코드'].unique()\n",
    "B['대여구분코드'].value_counts()"
   ]
  },
  {
   "cell_type": "markdown",
   "metadata": {
    "id": "DOk1H6xefjDZ"
   },
   "source": [
    "- 성별"
   ]
  },
  {
   "cell_type": "code",
   "execution_count": 11,
   "metadata": {
    "id": "qlJShcawyib6",
    "scrolled": true
   },
   "outputs": [
    {
     "data": {
      "text/plain": [
       "M    35383\n",
       "F    32290\n",
       "m       19\n",
       "f       10\n",
       "Name: 성별, dtype: int64"
      ]
     },
     "execution_count": 11,
     "metadata": {},
     "output_type": "execute_result"
    }
   ],
   "source": [
    "# 성별\n",
    "B['성별'].value_counts()"
   ]
  },
  {
   "cell_type": "markdown",
   "metadata": {
    "id": "WFSlP0KufjDa"
   },
   "source": [
    "- 연령대코드"
   ]
  },
  {
   "cell_type": "code",
   "execution_count": 12,
   "metadata": {
    "id": "IqnVl3XcymKT",
    "scrolled": true
   },
   "outputs": [
    {
     "data": {
      "text/plain": [
       "AGE_002    21982\n",
       "AGE_003    19610\n",
       "AGE_008    19395\n",
       "AGE_004    18575\n",
       "AGE_001    14720\n",
       "AGE_005    14555\n",
       "AGE_006     8180\n",
       "AGE_007     2843\n",
       "Name: 연령대코드, dtype: int64"
      ]
     },
     "execution_count": 12,
     "metadata": {},
     "output_type": "execute_result"
    }
   ],
   "source": [
    "# 연령대코드\n",
    "B['연령대코드'].value_counts()"
   ]
  },
  {
   "cell_type": "markdown",
   "metadata": {
    "id": "NdgmZo18fjDa"
   },
   "source": [
    "- 대여소명"
   ]
  },
  {
   "cell_type": "code",
   "execution_count": 13,
   "metadata": {
    "id": "a4ZnKFjByyv6",
    "scrolled": true
   },
   "outputs": [
    {
     "data": {
      "text/plain": [
       "207. 여의나루역 1번출구 앞     85\n",
       "502. 뚝섬유원지역 1번출구 앞    85\n",
       "152. 마포구민체육센터 앞       84\n",
       "2715.마곡나루역 2번 출구      81\n",
       "210. IFC몰             79\n",
       "                      ..\n",
       "상암센터 정비실               2\n",
       "천호센터                   1\n",
       "도봉정비센터                 1\n",
       "99999. 영남단말기정비         1\n",
       "4322.서울추모공원 입구         1\n",
       "Name: 대여소명, Length: 2471, dtype: int64"
      ]
     },
     "execution_count": 13,
     "metadata": {},
     "output_type": "execute_result"
    }
   ],
   "source": [
    "# 대여소명\n",
    "B['대여소명'].value_counts()"
   ]
  },
  {
   "cell_type": "markdown",
   "metadata": {
    "id": "YNUv-USzuLiW"
   },
   "source": [
    "## 3.데이터 전처리\n",
    "\n",
    "전처리 과정에서 다음과 같은 처리를 할 수 있습니다.\n",
    "\n",
    "- 결측치 처리\n",
    "- 값 변경\n",
    "- 열 추가\n",
    "- 불필요한 열 제거\n",
    "- 열 이름 변경\n",
    "- 데이터 통합(연결 또는 조인)\n",
    "- 가변수화 등"
   ]
  },
  {
   "cell_type": "markdown",
   "metadata": {
    "id": "h54wZpNy1V4E"
   },
   "source": [
    "**1) 결측치 제거**\n",
    "\n",
    "- 운동량, 탄소량 열은 결측치가 있는 행이 동일하고 몇 건 안되니 제거합니다."
   ]
  },
  {
   "cell_type": "code",
   "execution_count": 14,
   "metadata": {
    "id": "rCKtycsTwn-9",
    "scrolled": true
   },
   "outputs": [
    {
     "data": {
      "text/plain": [
       "대여일자           0\n",
       "대여소번호          0\n",
       "대여소명           0\n",
       "대여구분코드         0\n",
       "성별         52070\n",
       "연령대코드          0\n",
       "이용건수           0\n",
       "운동량            0\n",
       "탄소량            0\n",
       "이동거리(M)        0\n",
       "이용시간(분)        0\n",
       "dtype: int64"
      ]
     },
     "execution_count": 14,
     "metadata": {},
     "output_type": "execute_result"
    }
   ],
   "source": [
    "# 결측치 제거\n",
    "B.dropna(subset=['운동량'], axis=0, inplace=True)\n",
    "B.dropna(subset=['탄소량'], axis=0, inplace=True)\n",
    "# 확인\n",
    "B.isna().sum()"
   ]
  },
  {
   "cell_type": "markdown",
   "metadata": {
    "id": "laI21acz1aDd"
   },
   "source": [
    "**2) 결측치 채우기**\n",
    "\n",
    "- 성별 열은 결측치가 너무 많습니다. \n",
    "- 성별별 분석 시 '남','녀' 외에 '기타'로 분석되게 'X'로 채웁니다."
   ]
  },
  {
   "cell_type": "code",
   "execution_count": 15,
   "metadata": {
    "id": "rh1ZPDFOyD3u",
    "scrolled": true
   },
   "outputs": [
    {
     "data": {
      "text/plain": [
       "대여일자       0\n",
       "대여소번호      0\n",
       "대여소명       0\n",
       "대여구분코드     0\n",
       "성별         0\n",
       "연령대코드      0\n",
       "이용건수       0\n",
       "운동량        0\n",
       "탄소량        0\n",
       "이동거리(M)    0\n",
       "이용시간(분)    0\n",
       "dtype: int64"
      ]
     },
     "execution_count": 15,
     "metadata": {},
     "output_type": "execute_result"
    }
   ],
   "source": [
    "# 결측치 채우기\n",
    "B['성별'].fillna('X', inplace=True)\n",
    "\n",
    "# 확인\n",
    "B.isnull().sum()"
   ]
  },
  {
   "cell_type": "markdown",
   "metadata": {
    "id": "Rob2jyHX1dir"
   },
   "source": [
    "**3) 데이터 변경**\n",
    "\n",
    "- 성별이 소문자 m. f인 값을 대문자 M. F로 변경합니다."
   ]
  },
  {
   "cell_type": "code",
   "execution_count": 17,
   "metadata": {
    "id": "yE_L0aEay_XH",
    "scrolled": true
   },
   "outputs": [
    {
     "data": {
      "text/plain": [
       "X    52070\n",
       "M    35367\n",
       "F    32261\n",
       "Name: 성별, dtype: int64"
      ]
     },
     "execution_count": 17,
     "metadata": {},
     "output_type": "execute_result"
    }
   ],
   "source": [
    "# 성별 소문자 --> 대문자 변경\n",
    "B.loc[B['성별'] == 'm', '성별'] = 'M'\n",
    "B.loc[B['성별'] == 'f', '성별'] = 'F'\n",
    "\n",
    "\n",
    "# 확인\n",
    "B['성별'].value_counts()"
   ]
  },
  {
   "cell_type": "markdown",
   "metadata": {
    "id": "bRhyw32gfjDc"
   },
   "source": [
    "- 연령대 코드를 이해하기 쉽게 10대~80대로 변경합니다."
   ]
  },
  {
   "cell_type": "code",
   "execution_count": 18,
   "metadata": {
    "id": "LsGpe7zn0j4D",
    "scrolled": true
   },
   "outputs": [
    {
     "data": {
      "text/plain": [
       "20대    21962\n",
       "30대    19589\n",
       "80대    19373\n",
       "40대    18549\n",
       "10대    14697\n",
       "50대    14526\n",
       "60대     8166\n",
       "70대     2836\n",
       "Name: 연령대코드, dtype: int64"
      ]
     },
     "execution_count": 18,
     "metadata": {},
     "output_type": "execute_result"
    }
   ],
   "source": [
    "# 연령대 데이터 변경\n",
    "B['연령대코드'] = B['연령대코드'].str[-1] + '0대'\n",
    "\n",
    "# 확인\n",
    "B['연령대코드'].value_counts()"
   ]
  },
  {
   "cell_type": "markdown",
   "metadata": {
    "id": "1M0pm1He1uZU"
   },
   "source": [
    "**4) 불필요한 열 제거**\n",
    "\n",
    "- 분석에 큰 의미가 없는 대여일자, 대여소번호 열은 제거합니다."
   ]
  },
  {
   "cell_type": "code",
   "execution_count": 19,
   "metadata": {
    "id": "lyNCUjAr0RjY"
   },
   "outputs": [
    {
     "data": {
      "text/html": [
       "<div>\n",
       "<style scoped>\n",
       "    .dataframe tbody tr th:only-of-type {\n",
       "        vertical-align: middle;\n",
       "    }\n",
       "\n",
       "    .dataframe tbody tr th {\n",
       "        vertical-align: top;\n",
       "    }\n",
       "\n",
       "    .dataframe thead th {\n",
       "        text-align: right;\n",
       "    }\n",
       "</style>\n",
       "<table border=\"1\" class=\"dataframe\">\n",
       "  <thead>\n",
       "    <tr style=\"text-align: right;\">\n",
       "      <th></th>\n",
       "      <th>대여소명</th>\n",
       "      <th>대여구분코드</th>\n",
       "      <th>성별</th>\n",
       "      <th>연령대코드</th>\n",
       "      <th>이용건수</th>\n",
       "      <th>운동량</th>\n",
       "      <th>탄소량</th>\n",
       "      <th>이동거리(M)</th>\n",
       "      <th>이용시간(분)</th>\n",
       "    </tr>\n",
       "  </thead>\n",
       "  <tbody>\n",
       "    <tr>\n",
       "      <th>0</th>\n",
       "      <td>중랑센터</td>\n",
       "      <td>일일(회원)</td>\n",
       "      <td>F</td>\n",
       "      <td>30대</td>\n",
       "      <td>1</td>\n",
       "      <td>11.23</td>\n",
       "      <td>0.12</td>\n",
       "      <td>506.18</td>\n",
       "      <td>17</td>\n",
       "    </tr>\n",
       "    <tr>\n",
       "      <th>1</th>\n",
       "      <td>중랑센터</td>\n",
       "      <td>정기</td>\n",
       "      <td>X</td>\n",
       "      <td>30대</td>\n",
       "      <td>2</td>\n",
       "      <td>107.00</td>\n",
       "      <td>0.79</td>\n",
       "      <td>3377.56</td>\n",
       "      <td>17</td>\n",
       "    </tr>\n",
       "    <tr>\n",
       "      <th>2</th>\n",
       "      <td>중랑센터</td>\n",
       "      <td>정기</td>\n",
       "      <td>M</td>\n",
       "      <td>20대</td>\n",
       "      <td>6</td>\n",
       "      <td>352.15</td>\n",
       "      <td>3.18</td>\n",
       "      <td>13680.88</td>\n",
       "      <td>81</td>\n",
       "    </tr>\n",
       "    <tr>\n",
       "      <th>3</th>\n",
       "      <td>중랑센터</td>\n",
       "      <td>정기</td>\n",
       "      <td>M</td>\n",
       "      <td>40대</td>\n",
       "      <td>3</td>\n",
       "      <td>61.55</td>\n",
       "      <td>0.50</td>\n",
       "      <td>2158.72</td>\n",
       "      <td>21</td>\n",
       "    </tr>\n",
       "    <tr>\n",
       "      <th>4</th>\n",
       "      <td>중랑센터</td>\n",
       "      <td>정기</td>\n",
       "      <td>M</td>\n",
       "      <td>50대</td>\n",
       "      <td>3</td>\n",
       "      <td>125.30</td>\n",
       "      <td>1.10</td>\n",
       "      <td>4722.60</td>\n",
       "      <td>36</td>\n",
       "    </tr>\n",
       "  </tbody>\n",
       "</table>\n",
       "</div>"
      ],
      "text/plain": [
       "   대여소명  대여구분코드 성별 연령대코드  이용건수     운동량   탄소량   이동거리(M)  이용시간(분)\n",
       "0  중랑센터  일일(회원)  F   30대     1   11.23  0.12    506.18       17\n",
       "1  중랑센터      정기  X   30대     2  107.00  0.79   3377.56       17\n",
       "2  중랑센터      정기  M   20대     6  352.15  3.18  13680.88       81\n",
       "3  중랑센터      정기  M   40대     3   61.55  0.50   2158.72       21\n",
       "4  중랑센터      정기  M   50대     3  125.30  1.10   4722.60       36"
      ]
     },
     "execution_count": 19,
     "metadata": {},
     "output_type": "execute_result"
    }
   ],
   "source": [
    "# 대여일자, 대여소번호 제거\n",
    "del_cols = ['대여일자', '대여소번호']\n",
    "B.drop(del_cols, axis=1, inplace=True)\n",
    "\n",
    "# 확인\n",
    "B.head()"
   ]
  },
  {
   "cell_type": "markdown",
   "metadata": {
    "id": "cb5bc7202P4X"
   },
   "source": [
    "**5) 열 이름 변경**\n",
    "\n",
    "- 분석에 편의를 위해 열 이름을 간단명료하게 변경합니다.\n",
    "    - 대여소명 --> 대여소\n",
    "    - 대여구분코드 --> 대여구분\n",
    "    - 연령대코드  --> 연령대\n",
    "    - 이동거리(M) --> 이동거리\n",
    "    - 이용시간(분) --> 이용시간"
   ]
  },
  {
   "cell_type": "code",
   "execution_count": 20,
   "metadata": {
    "id": "MUjdjmzT2T8r"
   },
   "outputs": [
    {
     "data": {
      "text/html": [
       "<div>\n",
       "<style scoped>\n",
       "    .dataframe tbody tr th:only-of-type {\n",
       "        vertical-align: middle;\n",
       "    }\n",
       "\n",
       "    .dataframe tbody tr th {\n",
       "        vertical-align: top;\n",
       "    }\n",
       "\n",
       "    .dataframe thead th {\n",
       "        text-align: right;\n",
       "    }\n",
       "</style>\n",
       "<table border=\"1\" class=\"dataframe\">\n",
       "  <thead>\n",
       "    <tr style=\"text-align: right;\">\n",
       "      <th></th>\n",
       "      <th>대여소</th>\n",
       "      <th>대여구분</th>\n",
       "      <th>성별</th>\n",
       "      <th>연령대</th>\n",
       "      <th>이용건수</th>\n",
       "      <th>운동량</th>\n",
       "      <th>탄소량</th>\n",
       "      <th>이동거리</th>\n",
       "      <th>이용시간</th>\n",
       "    </tr>\n",
       "  </thead>\n",
       "  <tbody>\n",
       "    <tr>\n",
       "      <th>0</th>\n",
       "      <td>중랑센터</td>\n",
       "      <td>일일(회원)</td>\n",
       "      <td>F</td>\n",
       "      <td>30대</td>\n",
       "      <td>1</td>\n",
       "      <td>11.23</td>\n",
       "      <td>0.12</td>\n",
       "      <td>506.18</td>\n",
       "      <td>17</td>\n",
       "    </tr>\n",
       "    <tr>\n",
       "      <th>1</th>\n",
       "      <td>중랑센터</td>\n",
       "      <td>정기</td>\n",
       "      <td>X</td>\n",
       "      <td>30대</td>\n",
       "      <td>2</td>\n",
       "      <td>107.00</td>\n",
       "      <td>0.79</td>\n",
       "      <td>3377.56</td>\n",
       "      <td>17</td>\n",
       "    </tr>\n",
       "    <tr>\n",
       "      <th>2</th>\n",
       "      <td>중랑센터</td>\n",
       "      <td>정기</td>\n",
       "      <td>M</td>\n",
       "      <td>20대</td>\n",
       "      <td>6</td>\n",
       "      <td>352.15</td>\n",
       "      <td>3.18</td>\n",
       "      <td>13680.88</td>\n",
       "      <td>81</td>\n",
       "    </tr>\n",
       "    <tr>\n",
       "      <th>3</th>\n",
       "      <td>중랑센터</td>\n",
       "      <td>정기</td>\n",
       "      <td>M</td>\n",
       "      <td>40대</td>\n",
       "      <td>3</td>\n",
       "      <td>61.55</td>\n",
       "      <td>0.50</td>\n",
       "      <td>2158.72</td>\n",
       "      <td>21</td>\n",
       "    </tr>\n",
       "    <tr>\n",
       "      <th>4</th>\n",
       "      <td>중랑센터</td>\n",
       "      <td>정기</td>\n",
       "      <td>M</td>\n",
       "      <td>50대</td>\n",
       "      <td>3</td>\n",
       "      <td>125.30</td>\n",
       "      <td>1.10</td>\n",
       "      <td>4722.60</td>\n",
       "      <td>36</td>\n",
       "    </tr>\n",
       "  </tbody>\n",
       "</table>\n",
       "</div>"
      ],
      "text/plain": [
       "    대여소    대여구분 성별  연령대  이용건수     운동량   탄소량      이동거리  이용시간\n",
       "0  중랑센터  일일(회원)  F  30대     1   11.23  0.12    506.18    17\n",
       "1  중랑센터      정기  X  30대     2  107.00  0.79   3377.56    17\n",
       "2  중랑센터      정기  M  20대     6  352.15  3.18  13680.88    81\n",
       "3  중랑센터      정기  M  40대     3   61.55  0.50   2158.72    21\n",
       "4  중랑센터      정기  M  50대     3  125.30  1.10   4722.60    36"
      ]
     },
     "execution_count": 20,
     "metadata": {},
     "output_type": "execute_result"
    }
   ],
   "source": [
    "# 열 이름 변경\n",
    "B.columns = ['대여소', '대여구분', '성별', '연령대', '이용건수', '운동량', '탄소량', '이동거리', '이용시간']\n",
    "\n",
    "\n",
    "# 확인\n",
    "B.head()"
   ]
  },
  {
   "cell_type": "markdown",
   "metadata": {
    "id": "gAYdREQRrqyC"
   },
   "source": [
    "## 4.데이터 분석\n",
    "\n",
    "- 데이터를 집계하고 간단히 시각화하여 분석합니다.\n",
    "- 연속형 값은 선 그래프, 범주형 값은 막대 그래프로 시각화함이 일반적입니다."
   ]
  },
  {
   "cell_type": "markdown",
   "metadata": {
    "id": "CNHidwU4fjDe"
   },
   "source": [
    "**1) 대여구분별 이용 건수**\n",
    "\n",
    "- 대여구분별 이용 건수를 막대 그래프로 시각화해 확인합니다.\n",
    "- 이용건수 합 단위가 크니 1,000으로 나누어 시각화에 사용합니다."
   ]
  },
  {
   "cell_type": "code",
   "execution_count": 42,
   "metadata": {
    "id": "dswgjzwv2GVv",
    "scrolled": false
   },
   "outputs": [
    {
     "data": {
      "image/png": "[encoded data removed]",
      "text/plain": [
       "<Figure size 720x360 with 1 Axes>"
      ]
     },
     "metadata": {
      "image/png": {
       "height": 349,
       "width": 615
      },
      "needs_background": "light"
     },
     "output_type": "display_data"
    }
   ],
   "source": [
    "# 대여구분별 이용건수\n",
    "tmp = B.groupby(by='대여구분', as_index=False)['이용건수'].sum()\n",
    "\n",
    "# 시각화\n",
    "plt.figure(figsize=(10,5))\n",
    "plt.title('대여 구분별 이용 건수', fontsize=15, pad=20)\n",
    "plt.bar(tmp['대여구분'], tmp['이용건수']/1000)\n",
    "plt.xlabel('대여 구분')\n",
    "plt.ylabel('횟수(천)')\n",
    "plt.show()\n"
   ]
  },
  {
   "cell_type": "markdown",
   "metadata": {
    "id": "E99lxB1rfjDe"
   },
   "source": [
    "**2) 대여소별 이용 건수 TOP 10**\n",
    "\n",
    "- 대여소별 이용 건수 TOP 10을 막대 그래프로 시각화해 확인합니다."
   ]
  },
  {
   "cell_type": "code",
   "execution_count": 43,
   "metadata": {
    "id": "Ad2rrnhD36rZ",
    "scrolled": false
   },
   "outputs": [
    {
     "data": {
      "image/png": "[encoded data removed]",
      "text/plain": [
       "<Figure size 1440x360 with 1 Axes>"
      ]
     },
     "metadata": {
      "image/png": {
       "height": 438,
       "width": 1179
      },
      "needs_background": "light"
     },
     "output_type": "display_data"
    }
   ],
   "source": [
    "# 대여소별 이용건수 TOP 10\n",
    "tmp = B.groupby(by='대여소', as_index=False)['이용건수'].sum()\n",
    "tmp = tmp.sort_values(by='이용건수', ascending=False).head(10)\n",
    "\n",
    "# 시각화\n",
    "plt.figure(figsize=(20,5))\n",
    "plt.title('대여소별 이용 건수 TOP 10', fontsize=20, pad=20)\n",
    "plt.bar(tmp['대여소'], tmp['이용건수'])\n",
    "plt.xlabel('대여 구분')\n",
    "plt.ylabel('횟수')\n",
    "plt.xticks(rotation=30)\n",
    "plt.show()"
   ]
  },
  {
   "cell_type": "markdown",
   "metadata": {
    "id": "3FAp2e7afjDf"
   },
   "source": [
    "**3) (옵션) 연령대별 이용 건수**\n",
    "\n",
    "- 연령대별 이용 건수를 막대 그래프로 시각화해 확인합니다."
   ]
  },
  {
   "cell_type": "code",
   "execution_count": 44,
   "metadata": {
    "id": "cs202Jxt4qpB",
    "scrolled": false
   },
   "outputs": [
    {
     "data": {
      "image/png": "[encoded data removed]",
      "text/plain": [
       "<Figure size 720x360 with 1 Axes>"
      ]
     },
     "metadata": {
      "image/png": {
       "height": 349,
       "width": 615
      },
      "needs_background": "light"
     },
     "output_type": "display_data"
    }
   ],
   "source": [
    "# 연령대별 이용건수\n",
    "tmp = B.groupby(by='연령대', as_index=False)['이용건수'].sum()\n",
    "\n",
    "# 시각화\n",
    "plt.figure(figsize=(10,5))\n",
    "plt.title('연령대별 이용 건수', fontsize=15, pad=20)\n",
    "plt.bar(tmp['연령대'], tmp['이용건수']/1000)\n",
    "plt.xlabel('연령대')\n",
    "plt.ylabel('횟수(천)')\n",
    "plt.show()"
   ]
  },
  {
   "cell_type": "markdown",
   "metadata": {
    "id": "7GdrzE9efjDf"
   },
   "source": [
    "**4) (옵션) 성별별 이용 건수**\n",
    "\n",
    "- 성별별 이용 건수를 막대 그래프로 시각화해 확인합니다."
   ]
  },
  {
   "cell_type": "code",
   "execution_count": 49,
   "metadata": {
    "id": "8Kof9B6C5Rgj",
    "scrolled": false
   },
   "outputs": [
    {
     "data": {
      "image/png": "[encoded data removed]",
      "text/plain": [
       "<Figure size 720x360 with 1 Axes>"
      ]
     },
     "metadata": {
      "image/png": {
       "height": 349,
       "width": 615
      },
      "needs_background": "light"
     },
     "output_type": "display_data"
    }
   ],
   "source": [
    "# 성별별 이용건수\n",
    "tmp = B.groupby(by='성별', as_index=False)['이용건수'].sum()\n",
    "\n",
    "# 시각화\n",
    "plt.figure(figsize=(10,5))\n",
    "plt.title('성별별 이용 건수', fontsize=15, pad=20)\n",
    "plt.bar(tmp['성별'], tmp['이용건수']/1000)\n",
    "plt.xlabel('성별')\n",
    "plt.ylabel('횟수(천)')\n",
    "plt.show()"
   ]
  },
  {
   "cell_type": "markdown",
   "metadata": {
    "id": "H-0DyQoWfjDf"
   },
   "source": [
    "## 5.정리\n",
    "\n",
    "- 분석을 통해 확인한 내용을 정리합니다."
   ]
  },
  {
   "cell_type": "markdown",
   "metadata": {
    "id": "G7iy7QwAfjDg"
   },
   "source": [
    "\n",
    "**1) 의견**"
   ]
  },
  {
   "cell_type": "markdown",
   "metadata": {
    "id": "cbadpHOsfjDg"
   },
   "source": [
    "-  정기권 이용자의 이용 건수가 다른 모든 이용자들의 이용 건수의 합보다 많다.\n",
    "-  30대부터 70대까지 이용 건수가 꾸준히 감소하다가 80대에서 급증한다.\n",
    "        **고령 인구의 운동에 대한 관심이 늘어나는 이유가 있는지 조사해본다.\n",
    "-  여자보다 남자의 이용 건수가 많은 것으로 나오지만 결측치가 그보다 많으므로 단정지을 수 없다.\n",
    "-  \n",
    "-  "
   ]
  },
  {
   "cell_type": "markdown",
   "metadata": {
    "id": "h6Kq4gwgfjDg"
   },
   "source": [
    "**2) 기타**"
   ]
  },
  {
   "cell_type": "markdown",
   "metadata": {
    "id": "Xvf9pkaYfjDg"
   },
   "source": [
    "- 10대의 이용률이 생각보다 낮고, 80대의 이용률이 생각보다 높아서 신기했습니다.\n",
    "- 대여소가 2000개가 넘는다는 게 신기했습니다.\n",
    "- \n",
    "- \n",
    "- "
   ]
  }
 ],
 "metadata": {
  "colab": {
   "collapsed_sections": [],
   "name": "X03 - [레벨업] 서울 공공 자전거 이용현황.ipynb",
   "provenance": []
  },
  "kernelspec": {
   "display_name": "Python 3",
   "language": "python",
   "name": "python3"
  },
  "language_info": {
   "codemirror_mode": {
    "name": "ipython",
    "version": 3
   },
   "file_extension": ".py",
   "mimetype": "text/x-python",
   "name": "python",
   "nbconvert_exporter": "python",
   "pygments_lexer": "ipython3",
   "version": "3.8.8"
  }
 },
 "nbformat": 4,
 "nbformat_minor": 1
}
